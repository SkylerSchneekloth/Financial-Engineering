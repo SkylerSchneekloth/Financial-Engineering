{
 "cells": [
  {
   "cell_type": "code",
   "execution_count": 1,
   "metadata": {},
   "outputs": [],
   "source": [
    "%load_ext autoreload\n",
    "%autoreload 2\n",
    "import edhec_risk_kit as erk\n",
    "import pandas as pd\n",
    "import numpy as np\n",
    "from scipy.optimize import minimize\n",
    "ind = erk.get_ind_returns()         #Read and automatically format the data\n",
    "\n",
    "#Required user-defined settings\n",
    "BeginningPeriod = \"2013\"            #Starting period for historical analysis\n",
    "EndingPeriod = \"2017\"               #Ending period for historical analysis\n",
    "rf=0.1                              #Set the annualized risk-free rate\n",
    "min_allocation = 0.0                #The optimizer's rule for minimium weight per asset\n",
    "max_allocation = 1.0                #The optimizer's rule for maximum weight per asset\n",
    "solver=\"SLSQP\"                      #The optimizer's solver function from scipy.optimize\n",
    "\n",
    "#Preliminary calculations\n",
    "er = erk.annualize_ret(ind[BeginningPeriod:EndingPeriod], 12)       #calculate asset-level annualized returns\n",
    "cov = ind[BeginningPeriod:EndingPeriod].cov()                       #calculate asset-level annualized covariances"
   ]
  },
  {
   "cell_type": "code",
   "execution_count": 2,
   "metadata": {},
   "outputs": [],
   "source": [
    "l = [\"Books\",\"Steel\",\"Oil\",\"Mines\"] #list for k-asset frontier\n",
    "l_2 = [\"Games\", \"Fin\"] #list for 2-asset frontier"
   ]
  },
  {
   "attachments": {},
   "cell_type": "markdown",
   "metadata": {},
   "source": [
    "## Equal Weights:"
   ]
  },
  {
   "cell_type": "code",
   "execution_count": 3,
   "metadata": {},
   "outputs": [],
   "source": [
    "#Set up equal weights vector, returns vector, and covariance matrix\n",
    "w_ew = np.repeat(1/len(l), len(l))"
   ]
  },
  {
   "cell_type": "code",
   "execution_count": 4,
   "metadata": {},
   "outputs": [
    {
     "name": "stdout",
     "output_type": "stream",
     "text": [
      "Ret: 5.66\n",
      "Vol: 5.04\n",
      "Sharpe: -0.86\n"
     ]
    }
   ],
   "source": [
    "#Report annualized Tangent Portfolio metrics\n",
    "ret = erk.portfolio_return(w_ew, er[l])\n",
    "vol = erk.portfolio_vol(w_ew, cov.loc[l,l])\n",
    "print(\"Ret:\", round(erk.portfolio_return(w_ew, er[l])*100,2))\n",
    "print(\"Vol:\", round(erk.portfolio_vol(w_ew, cov.loc[l,l])*100,2))\n",
    "print(\"Sharpe:\", round((ret-rf)/vol,2))"
   ]
  },
  {
   "attachments": {},
   "cell_type": "markdown",
   "metadata": {},
   "source": [
    "## 2 Asset Frontier:"
   ]
  },
  {
   "cell_type": "code",
   "execution_count": 6,
   "metadata": {},
   "outputs": [
    {
     "data": {
      "text/plain": [
       "20"
      ]
     },
     "execution_count": 6,
     "metadata": {},
     "output_type": "execute_result"
    }
   ],
   "source": [
    "#Use list comprehension to set up a weights vector for the 2 asset case\n",
    "n_points = 20 #the number of points that you want to define the efficient frontier\n",
    "weights = [np.array([w, 1-w]) for w in np.linspace(0, 1, n_points)] #list comprehension\n",
    "len(weights) #each element corresponds to the asset weights at each point along the efficient frontier"
   ]
  },
  {
   "cell_type": "code",
   "execution_count": 7,
   "metadata": {},
   "outputs": [
    {
     "data": {
      "text/plain": [
       "20"
      ]
     },
     "execution_count": 7,
     "metadata": {},
     "output_type": "execute_result"
    }
   ],
   "source": [
    "#Use list comprehension to set up a portfolio returns vector different combinations of asset A and asset B (which together consitutes a portoflio)\n",
    "rets = [erk.portfolio_return(w, er[l_2]) for w in weights]\n",
    "len(rets) #each element corresponds to the weighted average (portfolio) return at each point along the efficient frontier (y-axis)"
   ]
  },
  {
   "cell_type": "code",
   "execution_count": 8,
   "metadata": {},
   "outputs": [
    {
     "data": {
      "text/plain": [
       "20"
      ]
     },
     "execution_count": 8,
     "metadata": {},
     "output_type": "execute_result"
    }
   ],
   "source": [
    "#Use list comprehension to set up a portfolio returns vector different combinations of asset A and asset B (which together consitutes a portoflio)\n",
    "vols = [erk.portfolio_vol(w, cov.loc[l_2,l_2]) for w in weights]\n",
    "len(vols) #each element corresponds to the volatility of asset returns at each point along the efficient frontier (x-axis)"
   ]
  },
  {
   "cell_type": "code",
   "execution_count": 9,
   "metadata": {},
   "outputs": [
    {
     "data": {
      "text/html": [
       "<div>\n",
       "<style scoped>\n",
       "    .dataframe tbody tr th:only-of-type {\n",
       "        vertical-align: middle;\n",
       "    }\n",
       "\n",
       "    .dataframe tbody tr th {\n",
       "        vertical-align: top;\n",
       "    }\n",
       "\n",
       "    .dataframe thead th {\n",
       "        text-align: right;\n",
       "    }\n",
       "</style>\n",
       "<table border=\"1\" class=\"dataframe\">\n",
       "  <thead>\n",
       "    <tr style=\"text-align: right;\">\n",
       "      <th></th>\n",
       "      <th>R</th>\n",
       "      <th>Vol</th>\n",
       "    </tr>\n",
       "  </thead>\n",
       "  <tbody>\n",
       "    <tr>\n",
       "      <th>0</th>\n",
       "      <td>0.196373</td>\n",
       "      <td>0.040374</td>\n",
       "    </tr>\n",
       "    <tr>\n",
       "      <th>1</th>\n",
       "      <td>0.197011</td>\n",
       "      <td>0.039633</td>\n",
       "    </tr>\n",
       "    <tr>\n",
       "      <th>2</th>\n",
       "      <td>0.197650</td>\n",
       "      <td>0.039026</td>\n",
       "    </tr>\n",
       "    <tr>\n",
       "      <th>3</th>\n",
       "      <td>0.198288</td>\n",
       "      <td>0.038557</td>\n",
       "    </tr>\n",
       "    <tr>\n",
       "      <th>4</th>\n",
       "      <td>0.198926</td>\n",
       "      <td>0.038231</td>\n",
       "    </tr>\n",
       "    <tr>\n",
       "      <th>5</th>\n",
       "      <td>0.199565</td>\n",
       "      <td>0.038054</td>\n",
       "    </tr>\n",
       "    <tr>\n",
       "      <th>6</th>\n",
       "      <td>0.200203</td>\n",
       "      <td>0.038026</td>\n",
       "    </tr>\n",
       "    <tr>\n",
       "      <th>7</th>\n",
       "      <td>0.200842</td>\n",
       "      <td>0.038148</td>\n",
       "    </tr>\n",
       "    <tr>\n",
       "      <th>8</th>\n",
       "      <td>0.201480</td>\n",
       "      <td>0.038419</td>\n",
       "    </tr>\n",
       "    <tr>\n",
       "      <th>9</th>\n",
       "      <td>0.202119</td>\n",
       "      <td>0.038835</td>\n",
       "    </tr>\n",
       "    <tr>\n",
       "      <th>10</th>\n",
       "      <td>0.202757</td>\n",
       "      <td>0.039392</td>\n",
       "    </tr>\n",
       "    <tr>\n",
       "      <th>11</th>\n",
       "      <td>0.203395</td>\n",
       "      <td>0.040084</td>\n",
       "    </tr>\n",
       "    <tr>\n",
       "      <th>12</th>\n",
       "      <td>0.204034</td>\n",
       "      <td>0.040904</td>\n",
       "    </tr>\n",
       "    <tr>\n",
       "      <th>13</th>\n",
       "      <td>0.204672</td>\n",
       "      <td>0.041844</td>\n",
       "    </tr>\n",
       "    <tr>\n",
       "      <th>14</th>\n",
       "      <td>0.205311</td>\n",
       "      <td>0.042898</td>\n",
       "    </tr>\n",
       "    <tr>\n",
       "      <th>15</th>\n",
       "      <td>0.205949</td>\n",
       "      <td>0.044055</td>\n",
       "    </tr>\n",
       "    <tr>\n",
       "      <th>16</th>\n",
       "      <td>0.206588</td>\n",
       "      <td>0.045310</td>\n",
       "    </tr>\n",
       "    <tr>\n",
       "      <th>17</th>\n",
       "      <td>0.207226</td>\n",
       "      <td>0.046653</td>\n",
       "    </tr>\n",
       "    <tr>\n",
       "      <th>18</th>\n",
       "      <td>0.207864</td>\n",
       "      <td>0.048077</td>\n",
       "    </tr>\n",
       "    <tr>\n",
       "      <th>19</th>\n",
       "      <td>0.208503</td>\n",
       "      <td>0.049576</td>\n",
       "    </tr>\n",
       "  </tbody>\n",
       "</table>\n",
       "</div>"
      ],
      "text/plain": [
       "           R       Vol\n",
       "0   0.196373  0.040374\n",
       "1   0.197011  0.039633\n",
       "2   0.197650  0.039026\n",
       "3   0.198288  0.038557\n",
       "4   0.198926  0.038231\n",
       "5   0.199565  0.038054\n",
       "6   0.200203  0.038026\n",
       "7   0.200842  0.038148\n",
       "8   0.201480  0.038419\n",
       "9   0.202119  0.038835\n",
       "10  0.202757  0.039392\n",
       "11  0.203395  0.040084\n",
       "12  0.204034  0.040904\n",
       "13  0.204672  0.041844\n",
       "14  0.205311  0.042898\n",
       "15  0.205949  0.044055\n",
       "16  0.206588  0.045310\n",
       "17  0.207226  0.046653\n",
       "18  0.207864  0.048077\n",
       "19  0.208503  0.049576"
      ]
     },
     "execution_count": 9,
     "metadata": {},
     "output_type": "execute_result"
    }
   ],
   "source": [
    "#Create a DataFrame for the efficient frontier\n",
    "ef = pd.DataFrame({\"R\": rets, \"Vol\": vols})\n",
    "ef"
   ]
  },
  {
   "cell_type": "code",
   "execution_count": 10,
   "metadata": {},
   "outputs": [
    {
     "data": {
      "text/plain": [
       "<Axes: xlabel='Vol', ylabel='R'>"
      ]
     },
     "execution_count": 10,
     "metadata": {},
     "output_type": "execute_result"
    },
    {
     "data": {
      "image/png": "[encoded data removed]",
      "text/plain": [
       "<Figure size 640x480 with 1 Axes>"
      ]
     },
     "metadata": {},
     "output_type": "display_data"
    }
   ],
   "source": [
    "#Plot the efficient frontier\n",
    "ef.plot.scatter(x=\"Vol\", y=\"R\")"
   ]
  },
  {
   "cell_type": "code",
   "execution_count": 11,
   "metadata": {},
   "outputs": [
    {
     "data": {
      "text/plain": [
       "<Axes: xlabel='Volatility'>"
      ]
     },
     "execution_count": 11,
     "metadata": {},
     "output_type": "execute_result"
    },
    {
     "data": {
      "image/png": "[encoded data removed]",
      "text/plain": [
       "<Figure size 640x480 with 1 Axes>"
      ]
     },
     "metadata": {},
     "output_type": "display_data"
    }
   ],
   "source": [
    "#Interpolate the efficient frontier\n",
    "erk.plot_ef2(n_points, er[l_2], cov.loc[l_2,l_2])"
   ]
  },
  {
   "attachments": {},
   "cell_type": "markdown",
   "metadata": {},
   "source": [
    "## K-Asset Markowitz Portfolio:"
   ]
  },
  {
   "cell_type": "code",
   "execution_count": 13,
   "metadata": {},
   "outputs": [
    {
     "data": {
      "text/html": [
       "<div>\n",
       "<style scoped>\n",
       "    .dataframe tbody tr th:only-of-type {\n",
       "        vertical-align: middle;\n",
       "    }\n",
       "\n",
       "    .dataframe tbody tr th {\n",
       "        vertical-align: top;\n",
       "    }\n",
       "\n",
       "    .dataframe thead th {\n",
       "        text-align: right;\n",
       "    }\n",
       "</style>\n",
       "<table border=\"1\" class=\"dataframe\">\n",
       "  <thead>\n",
       "    <tr style=\"text-align: right;\">\n",
       "      <th></th>\n",
       "      <th>Absolute Return</th>\n",
       "      <th>Tangent Weight</th>\n",
       "    </tr>\n",
       "  </thead>\n",
       "  <tbody>\n",
       "    <tr>\n",
       "      <th>Books</th>\n",
       "      <td>0.10</td>\n",
       "      <td>0.0</td>\n",
       "    </tr>\n",
       "    <tr>\n",
       "      <th>Steel</th>\n",
       "      <td>0.10</td>\n",
       "      <td>1.0</td>\n",
       "    </tr>\n",
       "    <tr>\n",
       "      <th>Oil</th>\n",
       "      <td>0.03</td>\n",
       "      <td>0.0</td>\n",
       "    </tr>\n",
       "    <tr>\n",
       "      <th>Mines</th>\n",
       "      <td>0.01</td>\n",
       "      <td>0.0</td>\n",
       "    </tr>\n",
       "  </tbody>\n",
       "</table>\n",
       "</div>"
      ],
      "text/plain": [
       "       Absolute Return  Tangent Weight\n",
       "Books             0.10             0.0\n",
       "Steel             0.10             1.0\n",
       "Oil               0.03             0.0\n",
       "Mines             0.01             0.0"
      ]
     },
     "execution_count": 13,
     "metadata": {},
     "output_type": "execute_result"
    }
   ],
   "source": [
    "#k-asset tangent portfolio weights\n",
    "w_msr = erk.msr(rf, er[l], cov.loc[l,l])\n",
    "w_msr_rounded = np.round(w_msr,4)\n",
    "er_rounded = np.round(er[l],2)\n",
    "MarkowitzPortfolio_k = pd.DataFrame({'Absolute Return': er_rounded, 'Tangent Weight': w_msr_rounded})\n",
    "MarkowitzPortfolio_k"
   ]
  },
  {
   "cell_type": "code",
   "execution_count": 14,
   "metadata": {},
   "outputs": [
    {
     "name": "stdout",
     "output_type": "stream",
     "text": [
      "Ret: 10.07\n",
      "Vol: 6.63\n",
      "Sharpe: 0.01\n"
     ]
    }
   ],
   "source": [
    "#Report annualized Tangent Portfolio metrics\n",
    "ret = erk.portfolio_return(w_msr, er[l])\n",
    "vol = erk.portfolio_vol(w_msr, cov.loc[l,l])\n",
    "print(\"Ret:\", round(erk.portfolio_return(w_msr, er[l])*100,2))\n",
    "print(\"Vol:\", round(erk.portfolio_vol(w_msr, cov.loc[l,l])*100,2))\n",
    "print(\"Sharpe:\", round((ret-rf)/vol,2))"
   ]
  },
  {
   "cell_type": "code",
   "execution_count": 15,
   "metadata": {},
   "outputs": [
    {
     "data": {
      "text/html": [
       "<div>\n",
       "<style scoped>\n",
       "    .dataframe tbody tr th:only-of-type {\n",
       "        vertical-align: middle;\n",
       "    }\n",
       "\n",
       "    .dataframe tbody tr th {\n",
       "        vertical-align: top;\n",
       "    }\n",
       "\n",
       "    .dataframe thead th {\n",
       "        text-align: right;\n",
       "    }\n",
       "</style>\n",
       "<table border=\"1\" class=\"dataframe\">\n",
       "  <thead>\n",
       "    <tr style=\"text-align: right;\">\n",
       "      <th></th>\n",
       "      <th>Absolute Return</th>\n",
       "      <th>GMV Weight</th>\n",
       "    </tr>\n",
       "  </thead>\n",
       "  <tbody>\n",
       "    <tr>\n",
       "      <th>Books</th>\n",
       "      <td>0.10</td>\n",
       "      <td>0.4770</td>\n",
       "    </tr>\n",
       "    <tr>\n",
       "      <th>Steel</th>\n",
       "      <td>0.10</td>\n",
       "      <td>0.0000</td>\n",
       "    </tr>\n",
       "    <tr>\n",
       "      <th>Oil</th>\n",
       "      <td>0.03</td>\n",
       "      <td>0.4341</td>\n",
       "    </tr>\n",
       "    <tr>\n",
       "      <th>Mines</th>\n",
       "      <td>0.01</td>\n",
       "      <td>0.0889</td>\n",
       "    </tr>\n",
       "  </tbody>\n",
       "</table>\n",
       "</div>"
      ],
      "text/plain": [
       "       Absolute Return  GMV Weight\n",
       "Books             0.10      0.4770\n",
       "Steel             0.10      0.0000\n",
       "Oil               0.03      0.4341\n",
       "Mines             0.01      0.0889"
      ]
     },
     "execution_count": 15,
     "metadata": {},
     "output_type": "execute_result"
    }
   ],
   "source": [
    "#k-asset Global Minimum Variance portfolio weights\n",
    "w_gmv = erk.gmv(cov.loc[l,l])\n",
    "w_gmv_rounded = np.round(w_gmv,4)\n",
    "er_rounded = np.round(er[l],2)\n",
    "MinimumVarPortfolio_k = pd.DataFrame({'Absolute Return': er_rounded, 'GMV Weight': w_gmv_rounded})\n",
    "MinimumVarPortfolio_k"
   ]
  },
  {
   "cell_type": "code",
   "execution_count": 16,
   "metadata": {},
   "outputs": [
    {
     "name": "stdout",
     "output_type": "stream",
     "text": [
      "Ret: 5.69\n",
      "Vol: 4.63\n",
      "Sharpe: -0.93\n"
     ]
    }
   ],
   "source": [
    "#Report annualized Minimum Variance Portfolio metrics\n",
    "ret = erk.portfolio_return(w_gmv, er[l])\n",
    "vol = erk.portfolio_vol(w_gmv, cov.loc[l,l])\n",
    "print(\"Ret:\", round(erk.portfolio_return(w_gmv, er[l])*100,2))\n",
    "print(\"Vol:\", round(erk.portfolio_vol(w_gmv, cov.loc[l,l])*100,2))\n",
    "print(\"Sharpe:\", round((ret-rf)/vol,2))"
   ]
  },
  {
   "attachments": {},
   "cell_type": "markdown",
   "metadata": {},
   "source": [
    "## Finding the Maximum Sharpe Ratio Portfolio (MSR) aka Tangent Portfolio:"
   ]
  },
  {
   "cell_type": "code",
   "execution_count": 17,
   "metadata": {},
   "outputs": [
    {
     "data": {
      "text/plain": [
       "<Axes: xlabel='Volatility'>"
      ]
     },
     "execution_count": 17,
     "metadata": {},
     "output_type": "execute_result"
    },
    {
     "data": {
      "image/png": "[encoded data removed]",
      "text/plain": [
       "<Figure size 640x480 with 1 Axes>"
      ]
     },
     "metadata": {},
     "output_type": "display_data"
    }
   ],
   "source": [
    "#Plot the efficient frontier for all assets in our dataset (30 in total) with 25 points\n",
    "erk.plot_ef(25, er, cov, riskfree_rate=rf, min=min_allocation, max=max_allocation, optimizer=solver)"
   ]
  },
  {
   "cell_type": "code",
   "execution_count": 18,
   "metadata": {},
   "outputs": [
    {
     "data": {
      "text/html": [
       "<div>\n",
       "<style scoped>\n",
       "    .dataframe tbody tr th:only-of-type {\n",
       "        vertical-align: middle;\n",
       "    }\n",
       "\n",
       "    .dataframe tbody tr th {\n",
       "        vertical-align: top;\n",
       "    }\n",
       "\n",
       "    .dataframe thead th {\n",
       "        text-align: right;\n",
       "    }\n",
       "</style>\n",
       "<table border=\"1\" class=\"dataframe\">\n",
       "  <thead>\n",
       "    <tr style=\"text-align: right;\">\n",
       "      <th></th>\n",
       "      <th>Absolute Return</th>\n",
       "      <th>Optimal Weight</th>\n",
       "    </tr>\n",
       "  </thead>\n",
       "  <tbody>\n",
       "    <tr>\n",
       "      <th>Food</th>\n",
       "      <td>0.12</td>\n",
       "      <td>0.00</td>\n",
       "    </tr>\n",
       "    <tr>\n",
       "      <th>Beer</th>\n",
       "      <td>0.18</td>\n",
       "      <td>0.25</td>\n",
       "    </tr>\n",
       "    <tr>\n",
       "      <th>Smoke</th>\n",
       "      <td>0.17</td>\n",
       "      <td>0.05</td>\n",
       "    </tr>\n",
       "    <tr>\n",
       "      <th>Games</th>\n",
       "      <td>0.21</td>\n",
       "      <td>0.00</td>\n",
       "    </tr>\n",
       "    <tr>\n",
       "      <th>Books</th>\n",
       "      <td>0.10</td>\n",
       "      <td>0.00</td>\n",
       "    </tr>\n",
       "    <tr>\n",
       "      <th>Hshld</th>\n",
       "      <td>0.10</td>\n",
       "      <td>0.00</td>\n",
       "    </tr>\n",
       "    <tr>\n",
       "      <th>Clths</th>\n",
       "      <td>0.13</td>\n",
       "      <td>0.00</td>\n",
       "    </tr>\n",
       "    <tr>\n",
       "      <th>Hlth</th>\n",
       "      <td>0.17</td>\n",
       "      <td>0.00</td>\n",
       "    </tr>\n",
       "    <tr>\n",
       "      <th>Chems</th>\n",
       "      <td>0.16</td>\n",
       "      <td>0.00</td>\n",
       "    </tr>\n",
       "    <tr>\n",
       "      <th>Txtls</th>\n",
       "      <td>0.27</td>\n",
       "      <td>0.28</td>\n",
       "    </tr>\n",
       "    <tr>\n",
       "      <th>Cnstr</th>\n",
       "      <td>0.15</td>\n",
       "      <td>0.00</td>\n",
       "    </tr>\n",
       "    <tr>\n",
       "      <th>Steel</th>\n",
       "      <td>0.10</td>\n",
       "      <td>0.00</td>\n",
       "    </tr>\n",
       "    <tr>\n",
       "      <th>FabPr</th>\n",
       "      <td>0.16</td>\n",
       "      <td>0.00</td>\n",
       "    </tr>\n",
       "    <tr>\n",
       "      <th>ElcEq</th>\n",
       "      <td>0.11</td>\n",
       "      <td>0.00</td>\n",
       "    </tr>\n",
       "    <tr>\n",
       "      <th>Autos</th>\n",
       "      <td>0.14</td>\n",
       "      <td>0.00</td>\n",
       "    </tr>\n",
       "    <tr>\n",
       "      <th>Carry</th>\n",
       "      <td>0.23</td>\n",
       "      <td>0.25</td>\n",
       "    </tr>\n",
       "    <tr>\n",
       "      <th>Mines</th>\n",
       "      <td>0.01</td>\n",
       "      <td>0.00</td>\n",
       "    </tr>\n",
       "    <tr>\n",
       "      <th>Coal</th>\n",
       "      <td>-0.24</td>\n",
       "      <td>0.00</td>\n",
       "    </tr>\n",
       "    <tr>\n",
       "      <th>Oil</th>\n",
       "      <td>0.03</td>\n",
       "      <td>0.00</td>\n",
       "    </tr>\n",
       "    <tr>\n",
       "      <th>Util</th>\n",
       "      <td>0.11</td>\n",
       "      <td>0.00</td>\n",
       "    </tr>\n",
       "    <tr>\n",
       "      <th>Telcm</th>\n",
       "      <td>0.12</td>\n",
       "      <td>0.00</td>\n",
       "    </tr>\n",
       "    <tr>\n",
       "      <th>Servs</th>\n",
       "      <td>0.20</td>\n",
       "      <td>0.18</td>\n",
       "    </tr>\n",
       "    <tr>\n",
       "      <th>BusEq</th>\n",
       "      <td>0.20</td>\n",
       "      <td>0.00</td>\n",
       "    </tr>\n",
       "    <tr>\n",
       "      <th>Paper</th>\n",
       "      <td>0.18</td>\n",
       "      <td>0.00</td>\n",
       "    </tr>\n",
       "    <tr>\n",
       "      <th>Trans</th>\n",
       "      <td>0.19</td>\n",
       "      <td>0.00</td>\n",
       "    </tr>\n",
       "    <tr>\n",
       "      <th>Whlsl</th>\n",
       "      <td>0.12</td>\n",
       "      <td>0.00</td>\n",
       "    </tr>\n",
       "    <tr>\n",
       "      <th>Rtail</th>\n",
       "      <td>0.16</td>\n",
       "      <td>0.00</td>\n",
       "    </tr>\n",
       "    <tr>\n",
       "      <th>Meals</th>\n",
       "      <td>0.18</td>\n",
       "      <td>0.00</td>\n",
       "    </tr>\n",
       "    <tr>\n",
       "      <th>Fin</th>\n",
       "      <td>0.20</td>\n",
       "      <td>0.00</td>\n",
       "    </tr>\n",
       "    <tr>\n",
       "      <th>Other</th>\n",
       "      <td>0.14</td>\n",
       "      <td>0.00</td>\n",
       "    </tr>\n",
       "  </tbody>\n",
       "</table>\n",
       "</div>"
      ],
      "text/plain": [
       "       Absolute Return  Optimal Weight\n",
       "Food              0.12            0.00\n",
       "Beer              0.18            0.25\n",
       "Smoke             0.17            0.05\n",
       "Games             0.21            0.00\n",
       "Books             0.10            0.00\n",
       "Hshld             0.10            0.00\n",
       "Clths             0.13            0.00\n",
       "Hlth              0.17            0.00\n",
       "Chems             0.16            0.00\n",
       "Txtls             0.27            0.28\n",
       "Cnstr             0.15            0.00\n",
       "Steel             0.10            0.00\n",
       "FabPr             0.16            0.00\n",
       "ElcEq             0.11            0.00\n",
       "Autos             0.14            0.00\n",
       "Carry             0.23            0.25\n",
       "Mines             0.01            0.00\n",
       "Coal             -0.24            0.00\n",
       "Oil               0.03            0.00\n",
       "Util              0.11            0.00\n",
       "Telcm             0.12            0.00\n",
       "Servs             0.20            0.18\n",
       "BusEq             0.20            0.00\n",
       "Paper             0.18            0.00\n",
       "Trans             0.19            0.00\n",
       "Whlsl             0.12            0.00\n",
       "Rtail             0.16            0.00\n",
       "Meals             0.18            0.00\n",
       "Fin               0.20            0.00\n",
       "Other             0.14            0.00"
      ]
     },
     "execution_count": 18,
     "metadata": {},
     "output_type": "execute_result"
    }
   ],
   "source": [
    "#tangent portfolio: rounded asset weights for all 30 assets\n",
    "w_msr = erk.msr(rf, er, cov, min=min_allocation, max=max_allocation, optimizer=solver)\n",
    "w_msr_rounded = np.round(w_msr,2)\n",
    "er_rounded = np.round(er,2)\n",
    "MarkowitzPortfolio = pd.DataFrame({'Absolute Return': er_rounded, 'Optimal Weight': w_msr_rounded})\n",
    "MarkowitzPortfolio\n"
   ]
  },
  {
   "cell_type": "code",
   "execution_count": 19,
   "metadata": {},
   "outputs": [
    {
     "name": "stdout",
     "output_type": "stream",
     "text": [
      "Ret: 21.91\n",
      "Vol: 2.99\n",
      "Sharpe: 3.98\n"
     ]
    }
   ],
   "source": [
    "#Report annualized Tangent Portfolio metrics\n",
    "ret = erk.portfolio_return(w_msr, er)\n",
    "vol = erk.portfolio_vol(w_msr, cov)\n",
    "print(\"Ret:\", round(erk.portfolio_return(w_msr, er)*100,2))\n",
    "print(\"Vol:\", round(erk.portfolio_vol(w_msr, cov)*100,2))\n",
    "print(\"Sharpe:\", round((ret-rf)/vol,2))"
   ]
  },
  {
   "attachments": {},
   "cell_type": "markdown",
   "metadata": {},
   "source": [
    "## Tackling estimation error in Markowitz\n",
    "\n",
    "- option 1: come up with more reliable estimates of expected return\n",
    "- option 2: focus on the minimum-variance portfolio\n",
    "- option 3: create an equally-weighted portfolio (naieve diversificaiton)\n",
    "- option 4: create a randomly-weighted portfolio"
   ]
  },
  {
   "attachments": {},
   "cell_type": "markdown",
   "metadata": {},
   "source": [
    "#### Option 2: Finding the minimum-variance portfolio"
   ]
  },
  {
   "cell_type": "code",
   "execution_count": 20,
   "metadata": {},
   "outputs": [
    {
     "data": {
      "text/html": [
       "<div>\n",
       "<style scoped>\n",
       "    .dataframe tbody tr th:only-of-type {\n",
       "        vertical-align: middle;\n",
       "    }\n",
       "\n",
       "    .dataframe tbody tr th {\n",
       "        vertical-align: top;\n",
       "    }\n",
       "\n",
       "    .dataframe thead th {\n",
       "        text-align: right;\n",
       "    }\n",
       "</style>\n",
       "<table border=\"1\" class=\"dataframe\">\n",
       "  <thead>\n",
       "    <tr style=\"text-align: right;\">\n",
       "      <th></th>\n",
       "      <th>Absolute Return</th>\n",
       "      <th>GMV Weight</th>\n",
       "    </tr>\n",
       "  </thead>\n",
       "  <tbody>\n",
       "    <tr>\n",
       "      <th>Food</th>\n",
       "      <td>0.12</td>\n",
       "      <td>0.00</td>\n",
       "    </tr>\n",
       "    <tr>\n",
       "      <th>Beer</th>\n",
       "      <td>0.18</td>\n",
       "      <td>0.17</td>\n",
       "    </tr>\n",
       "    <tr>\n",
       "      <th>Smoke</th>\n",
       "      <td>0.17</td>\n",
       "      <td>0.00</td>\n",
       "    </tr>\n",
       "    <tr>\n",
       "      <th>Games</th>\n",
       "      <td>0.21</td>\n",
       "      <td>0.00</td>\n",
       "    </tr>\n",
       "    <tr>\n",
       "      <th>Books</th>\n",
       "      <td>0.10</td>\n",
       "      <td>0.00</td>\n",
       "    </tr>\n",
       "    <tr>\n",
       "      <th>Hshld</th>\n",
       "      <td>0.10</td>\n",
       "      <td>0.00</td>\n",
       "    </tr>\n",
       "    <tr>\n",
       "      <th>Clths</th>\n",
       "      <td>0.13</td>\n",
       "      <td>0.20</td>\n",
       "    </tr>\n",
       "    <tr>\n",
       "      <th>Hlth</th>\n",
       "      <td>0.17</td>\n",
       "      <td>0.00</td>\n",
       "    </tr>\n",
       "    <tr>\n",
       "      <th>Chems</th>\n",
       "      <td>0.16</td>\n",
       "      <td>0.00</td>\n",
       "    </tr>\n",
       "    <tr>\n",
       "      <th>Txtls</th>\n",
       "      <td>0.27</td>\n",
       "      <td>0.00</td>\n",
       "    </tr>\n",
       "    <tr>\n",
       "      <th>Cnstr</th>\n",
       "      <td>0.15</td>\n",
       "      <td>0.00</td>\n",
       "    </tr>\n",
       "    <tr>\n",
       "      <th>Steel</th>\n",
       "      <td>0.10</td>\n",
       "      <td>0.00</td>\n",
       "    </tr>\n",
       "    <tr>\n",
       "      <th>FabPr</th>\n",
       "      <td>0.16</td>\n",
       "      <td>0.00</td>\n",
       "    </tr>\n",
       "    <tr>\n",
       "      <th>ElcEq</th>\n",
       "      <td>0.11</td>\n",
       "      <td>0.00</td>\n",
       "    </tr>\n",
       "    <tr>\n",
       "      <th>Autos</th>\n",
       "      <td>0.14</td>\n",
       "      <td>0.00</td>\n",
       "    </tr>\n",
       "    <tr>\n",
       "      <th>Carry</th>\n",
       "      <td>0.23</td>\n",
       "      <td>0.00</td>\n",
       "    </tr>\n",
       "    <tr>\n",
       "      <th>Mines</th>\n",
       "      <td>0.01</td>\n",
       "      <td>0.06</td>\n",
       "    </tr>\n",
       "    <tr>\n",
       "      <th>Coal</th>\n",
       "      <td>-0.24</td>\n",
       "      <td>0.00</td>\n",
       "    </tr>\n",
       "    <tr>\n",
       "      <th>Oil</th>\n",
       "      <td>0.03</td>\n",
       "      <td>0.00</td>\n",
       "    </tr>\n",
       "    <tr>\n",
       "      <th>Util</th>\n",
       "      <td>0.11</td>\n",
       "      <td>0.28</td>\n",
       "    </tr>\n",
       "    <tr>\n",
       "      <th>Telcm</th>\n",
       "      <td>0.12</td>\n",
       "      <td>0.00</td>\n",
       "    </tr>\n",
       "    <tr>\n",
       "      <th>Servs</th>\n",
       "      <td>0.20</td>\n",
       "      <td>0.10</td>\n",
       "    </tr>\n",
       "    <tr>\n",
       "      <th>BusEq</th>\n",
       "      <td>0.20</td>\n",
       "      <td>0.00</td>\n",
       "    </tr>\n",
       "    <tr>\n",
       "      <th>Paper</th>\n",
       "      <td>0.18</td>\n",
       "      <td>0.00</td>\n",
       "    </tr>\n",
       "    <tr>\n",
       "      <th>Trans</th>\n",
       "      <td>0.19</td>\n",
       "      <td>0.00</td>\n",
       "    </tr>\n",
       "    <tr>\n",
       "      <th>Whlsl</th>\n",
       "      <td>0.12</td>\n",
       "      <td>0.00</td>\n",
       "    </tr>\n",
       "    <tr>\n",
       "      <th>Rtail</th>\n",
       "      <td>0.16</td>\n",
       "      <td>0.00</td>\n",
       "    </tr>\n",
       "    <tr>\n",
       "      <th>Meals</th>\n",
       "      <td>0.18</td>\n",
       "      <td>0.06</td>\n",
       "    </tr>\n",
       "    <tr>\n",
       "      <th>Fin</th>\n",
       "      <td>0.20</td>\n",
       "      <td>0.10</td>\n",
       "    </tr>\n",
       "    <tr>\n",
       "      <th>Other</th>\n",
       "      <td>0.14</td>\n",
       "      <td>0.03</td>\n",
       "    </tr>\n",
       "  </tbody>\n",
       "</table>\n",
       "</div>"
      ],
      "text/plain": [
       "       Absolute Return  GMV Weight\n",
       "Food              0.12        0.00\n",
       "Beer              0.18        0.17\n",
       "Smoke             0.17        0.00\n",
       "Games             0.21        0.00\n",
       "Books             0.10        0.00\n",
       "Hshld             0.10        0.00\n",
       "Clths             0.13        0.20\n",
       "Hlth              0.17        0.00\n",
       "Chems             0.16        0.00\n",
       "Txtls             0.27        0.00\n",
       "Cnstr             0.15        0.00\n",
       "Steel             0.10        0.00\n",
       "FabPr             0.16        0.00\n",
       "ElcEq             0.11        0.00\n",
       "Autos             0.14        0.00\n",
       "Carry             0.23        0.00\n",
       "Mines             0.01        0.06\n",
       "Coal             -0.24        0.00\n",
       "Oil               0.03        0.00\n",
       "Util              0.11        0.28\n",
       "Telcm             0.12        0.00\n",
       "Servs             0.20        0.10\n",
       "BusEq             0.20        0.00\n",
       "Paper             0.18        0.00\n",
       "Trans             0.19        0.00\n",
       "Whlsl             0.12        0.00\n",
       "Rtail             0.16        0.00\n",
       "Meals             0.18        0.06\n",
       "Fin               0.20        0.10\n",
       "Other             0.14        0.03"
      ]
     },
     "execution_count": 20,
     "metadata": {},
     "output_type": "execute_result"
    }
   ],
   "source": [
    "w_gmv = erk.gmv(cov)\n",
    "w_gmv_rounded = np.round(w_gmv,2)\n",
    "er_rounded = np.round(er,2)\n",
    "MinimumVarPortfolio_k = pd.DataFrame({'Absolute Return': er_rounded, 'GMV Weight': w_gmv_rounded})\n",
    "MinimumVarPortfolio_k"
   ]
  },
  {
   "cell_type": "code",
   "execution_count": 21,
   "metadata": {},
   "outputs": [
    {
     "name": "stdout",
     "output_type": "stream",
     "text": [
      "Ret: 14.16\n",
      "Vol: 2.25\n",
      "Sharpe: 1.85\n"
     ]
    }
   ],
   "source": [
    "#Report annualized Minimum Variance Portoflio metrics\n",
    "ret = erk.portfolio_return(w_gmv, er)\n",
    "vol = erk.portfolio_vol(w_gmv, cov)\n",
    "print(\"Ret:\", round(erk.portfolio_return(w_gmv, er)*100,2))\n",
    "print(\"Vol:\", round(erk.portfolio_vol(w_gmv, cov)*100,2))\n",
    "print(\"Sharpe:\", round((ret-rf)/vol,2))"
   ]
  }
 ],
 "metadata": {
  "kernelspec": {
   "display_name": "base",
   "language": "python",
   "name": "python3"
  },
  "language_info": {
   "codemirror_mode": {
    "name": "ipython",
    "version": 3
   },
   "file_extension": ".py",
   "mimetype": "text/x-python",
   "name": "python",
   "nbconvert_exporter": "python",
   "pygments_lexer": "ipython3",
   "version": "3.10.9"
  },
  "orig_nbformat": 4
 },
 "nbformat": 4,
 "nbformat_minor": 2
}
