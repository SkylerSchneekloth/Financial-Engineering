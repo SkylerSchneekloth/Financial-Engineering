{
 "cells": [
  {
   "cell_type": "code",
   "execution_count": 1,
   "metadata": {},
   "outputs": [],
   "source": [
    "#User-defined inputs and assumptions:\n",
    "\n",
    "rf = 0.03      #Annualized risk free rate assumption\n",
    "start = 1000   #The inital asset value for wealth index\n",
    "floor = 0.8    #CPPI floor = 80% of the initial asset value (represents a 20% drawdown constraint)"
   ]
  },
  {
   "cell_type": "code",
   "execution_count": 2,
   "metadata": {},
   "outputs": [],
   "source": [
    "import edhec_risk_kit as erk\n",
    "import pandas as pd\n",
    "import numpy as np\n",
    "\n",
    "ind_return = erk.get_ind_returns()\n",
    "tmi_return = erk.get_total_market_index_returns()\n",
    "\n",
    "#Define \"Risky\" Assets\n",
    "risky_r = ind_return[\"2000\":][[\"Steel\",\"Fin\",\"Beer\"]]\n",
    "\n",
    "#Set up a Data Frame for the \"Safe\" Asset\n",
    "safe_r = pd.DataFrame().reindex_like(risky_r) #gives you an empty dataframe of the same shape as risky_r\n",
    "safe_r[:] = rf/12"
   ]
  },
  {
   "cell_type": "code",
   "execution_count": 3,
   "metadata": {},
   "outputs": [
    {
     "data": {
      "text/plain": [
       "True"
      ]
     },
     "execution_count": 3,
     "metadata": {},
     "output_type": "execute_result"
    }
   ],
   "source": [
    "#Make sure that risky_r.shape = safe_r.shape\n",
    "risky_r.shape == safe_r.shape"
   ]
  },
  {
   "attachments": {},
   "cell_type": "markdown",
   "metadata": {},
   "source": [
    "Objective: write an algorithm for implementing CPPI and Drawdown Constraints (Dynamic Hedging).\n",
    "\n",
    "For every unit of time:\n",
    "1. Cushion = (Asset Value) minus (Floor Value): This is your risk budget\n",
    "2. Compute an Allocation to Safe and Risky Asset = M(t)*Cushion\n",
    "3. Recompute the Asset Value based on the returns"
   ]
  },
  {
   "attachments": {},
   "cell_type": "markdown",
   "metadata": {},
   "source": [
    "#### Side note: you can use numpy's buit-in functions to improve your code:\n",
    "\n",
    "- It's good practice to avoid using loops with numpy because they require a lot more processing power than numpy functions."
   ]
  },
  {
   "cell_type": "code",
   "execution_count": 4,
   "metadata": {},
   "outputs": [
    {
     "name": "stdout",
     "output_type": "stream",
     "text": [
      "541 µs ± 3.86 µs per loop (mean ± std. dev. of 7 runs, 1,000 loops each)\n",
      "473 µs ± 10.9 µs per loop (mean ± std. dev. of 7 runs, 1,000 loops each)\n",
      "385 µs ± 751 ns per loop (mean ± std. dev. of 7 runs, 1,000 loops each)\n"
     ]
    },
    {
     "ename": "NameError",
     "evalue": "name 'compound4' is not defined",
     "output_type": "error",
     "traceback": [
      "\u001b[1;31m---------------------------------------------------------------------------\u001b[0m",
      "\u001b[1;31mNameError\u001b[0m                                 Traceback (most recent call last)",
      "Cell \u001b[1;32mIn[4], line 15\u001b[0m\n\u001b[0;32m     13\u001b[0m \u001b[39mdef\u001b[39;00m \u001b[39mcompoundBASE\u001b[39m(r):\n\u001b[0;32m     14\u001b[0m     \u001b[39mreturn\u001b[39;00m (\u001b[39m1\u001b[39m\u001b[39m+\u001b[39mr)\u001b[39m.\u001b[39mprod()\u001b[39m-\u001b[39m\u001b[39m1\u001b[39m\n\u001b[1;32m---> 15\u001b[0m get_ipython()\u001b[39m.\u001b[39;49mrun_line_magic(\u001b[39m'\u001b[39;49m\u001b[39mtimeit\u001b[39;49m\u001b[39m'\u001b[39;49m, \u001b[39m'\u001b[39;49m\u001b[39mcompound4(risky_r) #the processing power it takes to compound returns using base python\u001b[39;49m\u001b[39m'\u001b[39;49m)\n\u001b[0;32m     17\u001b[0m \u001b[39mprint\u001b[39m(\u001b[39m\"\u001b[39m\u001b[39mOn average, numpy compound3() beats all other options in terms of processing efficiency just by making good use of numpy\u001b[39m\u001b[39m'\u001b[39m\u001b[39ms built-in functions log1p(r) and expm1()\u001b[39m\u001b[39m\"\u001b[39m)\n\u001b[0;32m     18\u001b[0m \u001b[39mprint\u001b[39m(\u001b[39m\"\u001b[39m\u001b[39mBut in this case, it\u001b[39m\u001b[39m'\u001b[39m\u001b[39ms comparable to using base python to calculate compounded returns...\u001b[39m\u001b[39m\"\u001b[39m)\n",
      "File \u001b[1;32mc:\\Users\\Skyler\\anaconda3\\lib\\site-packages\\IPython\\core\\interactiveshell.py:2369\u001b[0m, in \u001b[0;36mInteractiveShell.run_line_magic\u001b[1;34m(self, magic_name, line, _stack_depth)\u001b[0m\n\u001b[0;32m   2367\u001b[0m     kwargs[\u001b[39m'\u001b[39m\u001b[39mlocal_ns\u001b[39m\u001b[39m'\u001b[39m] \u001b[39m=\u001b[39m \u001b[39mself\u001b[39m\u001b[39m.\u001b[39mget_local_scope(stack_depth)\n\u001b[0;32m   2368\u001b[0m \u001b[39mwith\u001b[39;00m \u001b[39mself\u001b[39m\u001b[39m.\u001b[39mbuiltin_trap:\n\u001b[1;32m-> 2369\u001b[0m     result \u001b[39m=\u001b[39m fn(\u001b[39m*\u001b[39margs, \u001b[39m*\u001b[39m\u001b[39m*\u001b[39mkwargs)\n\u001b[0;32m   2371\u001b[0m \u001b[39m# The code below prevents the output from being displayed\u001b[39;00m\n\u001b[0;32m   2372\u001b[0m \u001b[39m# when using magics with decodator @output_can_be_silenced\u001b[39;00m\n\u001b[0;32m   2373\u001b[0m \u001b[39m# when the last Python token in the expression is a ';'.\u001b[39;00m\n\u001b[0;32m   2374\u001b[0m \u001b[39mif\u001b[39;00m \u001b[39mgetattr\u001b[39m(fn, magic\u001b[39m.\u001b[39mMAGIC_OUTPUT_CAN_BE_SILENCED, \u001b[39mFalse\u001b[39;00m):\n",
      "File \u001b[1;32mc:\\Users\\Skyler\\anaconda3\\lib\\site-packages\\IPython\\core\\magics\\execution.py:1163\u001b[0m, in \u001b[0;36mExecutionMagics.timeit\u001b[1;34m(self, line, cell, local_ns)\u001b[0m\n\u001b[0;32m   1161\u001b[0m \u001b[39mfor\u001b[39;00m index \u001b[39min\u001b[39;00m \u001b[39mrange\u001b[39m(\u001b[39m0\u001b[39m, \u001b[39m10\u001b[39m):\n\u001b[0;32m   1162\u001b[0m     number \u001b[39m=\u001b[39m \u001b[39m10\u001b[39m \u001b[39m*\u001b[39m\u001b[39m*\u001b[39m index\n\u001b[1;32m-> 1163\u001b[0m     time_number \u001b[39m=\u001b[39m timer\u001b[39m.\u001b[39;49mtimeit(number)\n\u001b[0;32m   1164\u001b[0m     \u001b[39mif\u001b[39;00m time_number \u001b[39m>\u001b[39m\u001b[39m=\u001b[39m \u001b[39m0.2\u001b[39m:\n\u001b[0;32m   1165\u001b[0m         \u001b[39mbreak\u001b[39;00m\n",
      "File \u001b[1;32mc:\\Users\\Skyler\\anaconda3\\lib\\site-packages\\IPython\\core\\magics\\execution.py:157\u001b[0m, in \u001b[0;36mTimer.timeit\u001b[1;34m(self, number)\u001b[0m\n\u001b[0;32m    155\u001b[0m gc\u001b[39m.\u001b[39mdisable()\n\u001b[0;32m    156\u001b[0m \u001b[39mtry\u001b[39;00m:\n\u001b[1;32m--> 157\u001b[0m     timing \u001b[39m=\u001b[39m \u001b[39mself\u001b[39;49m\u001b[39m.\u001b[39;49minner(it, \u001b[39mself\u001b[39;49m\u001b[39m.\u001b[39;49mtimer)\n\u001b[0;32m    158\u001b[0m \u001b[39mfinally\u001b[39;00m:\n\u001b[0;32m    159\u001b[0m     \u001b[39mif\u001b[39;00m gcold:\n",
      "File \u001b[1;32m<magic-timeit>:1\u001b[0m, in \u001b[0;36minner\u001b[1;34m(_it, _timer)\u001b[0m\n",
      "\u001b[1;31mNameError\u001b[0m: name 'compound4' is not defined"
     ]
    }
   ],
   "source": [
    "\n",
    "def compound1(r):\n",
    "    return np.exp(np.log(1+r).sum())-1 #np.exp()-1 and log(1+r) both represent unnecessary loops\n",
    "%timeit compound1(risky_r) #the processing power it takes to compound returns using compound1()\n",
    "\n",
    "def compound2(r):\n",
    "    return np.exp(np.log1p(r).sum())-1 #np.log1p(r) is mathematically equivalent to np.log(1+r)\n",
    "%timeit compound2(risky_r) #the processing power it takes to compound returns using compound2()\n",
    "      \n",
    "def compound3(r):\n",
    "    return np.expm1(np.log1p(r).sum()) #np.expm1(r) is mathematically equivalent to exp(r)-1\n",
    "%timeit compound3(risky_r) #the processing power it takes to compound returns using compound3()\n",
    "\n",
    "def compoundBASE(r):\n",
    "    return (1+r).prod()-1\n",
    "%timeit compoundBASE(risky_r) #the processing power it takes to compound returns using base python\n",
    "\n",
    "print(\"On average, numpy compound3() beats all other options in terms of processing efficiency just by making good use of numpy's built-in functions log1p(r) and expm1()\")\n",
    "print(\"But in this case, it's comparable to using base python to calculate compounded returns...\")"
   ]
  },
  {
   "attachments": {},
   "cell_type": "markdown",
   "metadata": {},
   "source": [
    "#### Now back to CPPI:\n",
    "\n",
    "- Here, it's unavoidable... we must use a for() loop to run the algorithm for CPPI"
   ]
  },
  {
   "cell_type": "code",
   "execution_count": null,
   "metadata": {},
   "outputs": [],
   "source": [
    "dates = risky_r.index\n",
    "n_steps = len(dates)\n",
    "account_value = start #initailize account_value\n",
    "floor_value = start*floor #initailize floor_value\n",
    "m = 3\n",
    "account_history = pd.DataFrame().reindex_like(risky_r)\n",
    "cushion_history = pd.DataFrame().reindex_like(risky_r)\n",
    "risky_w_history = pd.DataFrame().reindex_like(risky_r)\n",
    "\n",
    "#Implement the CPPI algorithim with a for() loop\n",
    "for step in range(n_steps):\n",
    "    cushion = (account_value - floor_value)/account_value\n",
    "    risky_w = m*cushion\n",
    "    risky_w = np.minimum(risky_w, 1) #constraint: risky_w cannot exceed 100% i.e., we do not allow levered CPPI investment (must borrow to finance risky_w > 100%)\n",
    "    risky_w = np.maximum(risky_w, 0) #constraint: cannot short the risky asset\n",
    "    safe_w = 1 - risky_w\n",
    "    risky_alloc = account_value*risky_w\n",
    "    safe_alloc = account_value*safe_w\n",
    "    ## update the account value for this time step\n",
    "    account_value = risky_alloc*(1+risky_r.iloc[step]) + safe_alloc*(1+safe_r.iloc[step])\n",
    "    ## populate account_history, cushion_history, risky_w_history\n",
    "    account_history.iloc[step] = account_value\n",
    "    cushion_history.iloc[step] = cushion\n",
    "    risky_w_history.iloc[step] = risky_w\n",
    "    "
   ]
  },
  {
   "cell_type": "code",
   "execution_count": null,
   "metadata": {},
   "outputs": [],
   "source": [
    "#Let's look at the growth of $1000 for a 100% allocaiton to each of our risky assets\n",
    "risky_wealth = start*(1+risky_r).cumprod() #your compounded account value lacking any CPPI strategy\n",
    "risky_wealth.plot(figsize=(12,6))"
   ]
  },
  {
   "cell_type": "code",
   "execution_count": null,
   "metadata": {},
   "outputs": [],
   "source": [
    "#Let's look at the value added by CPPI if our risky asset is an investment in the steel industry\n",
    "ax = account_history[\"Steel\"].plot(figsize=(12,6), legend=True, label=\"CPPI Strategy\")\n",
    "risky_wealth[\"Steel\"].plot(ax=ax,figsize=(12,6), style=\"k:\", legend=True, label=\"100% Invested in Risky Asset\", title=\"Growth of $1000\")\n",
    "ax.axhline(y=floor_value, color=\"red\", linestyle=\"--\")"
   ]
  },
  {
   "cell_type": "code",
   "execution_count": null,
   "metadata": {},
   "outputs": [],
   "source": [
    "#Let's look at the allocation to our risky asset over history\n",
    "risky_w_history[\"Steel\"].plot(figsize=(12,6), title=\"Historic Portfolio %Weight in Risky Asset as per CPPI Strategy\")"
   ]
  },
  {
   "cell_type": "code",
   "execution_count": null,
   "metadata": {},
   "outputs": [],
   "source": []
  }
 ],
 "metadata": {
  "kernelspec": {
   "display_name": "base",
   "language": "python",
   "name": "python3"
  },
  "language_info": {
   "codemirror_mode": {
    "name": "ipython",
    "version": 3
   },
   "file_extension": ".py",
   "mimetype": "text/x-python",
   "name": "python",
   "nbconvert_exporter": "python",
   "pygments_lexer": "ipython3",
   "version": "3.10.9"
  },
  "orig_nbformat": 4
 },
 "nbformat": 4,
 "nbformat_minor": 2
}
