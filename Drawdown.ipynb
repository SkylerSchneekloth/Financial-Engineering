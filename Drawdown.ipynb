{
 "cells": [
  {
   "cell_type": "code",
   "execution_count": null,
   "metadata": {},
   "outputs": [],
   "source": [
    "import pandas as pd\n",
    "returns = pd.read_csv(\"Portfolios_Formed_on_ME_monthly_EW.csv\",\n",
    "                      header=0, #set the first row as column index\n",
    "                      index_col=0, parse_dates=True, #set the first column as row index and tell pandas to convert number to date\n",
    "                      na_values=-99.99 #tell pandas that missing values have been encoded as -99.99\n",
    ")\n",
    "returns = returns[['Lo 20', 'Hi 20']]\n",
    "returns.columns = ['SmallCap', 'LargeCap']\n",
    "returns = returns/100\n",
    "returns.index = pd.to_datetime(returns.index, format=\"%Y%m\")\n",
    "returns.index = returns.index.to_period('M')\n",
    "returns.head()"
   ]
  },
  {
   "attachments": {},
   "cell_type": "markdown",
   "metadata": {},
   "source": [
    "#### Compute drawdowns:\n",
    "\n",
    "- Step 1. Compute a wealth index\n",
    "\n",
    "- Step 2. Compute previous peaks\n",
    "\n",
    "- Step 3. Compute drawdown = the wealth value as a percentage of the previous peak"
   ]
  },
  {
   "cell_type": "code",
   "execution_count": null,
   "metadata": {},
   "outputs": [],
   "source": [
    "#Step 1. Compute a wealth index = the value of the portfolio as it compounds over time\n",
    "WealthIndex = 1000*(1+returns['LargeCap']).cumprod() #assumes starting value = $1000\n",
    "WealthIndex.plot.line()"
   ]
  },
  {
   "cell_type": "code",
   "execution_count": null,
   "metadata": {},
   "outputs": [],
   "source": [
    "#Step 2. Compute previous peaks\n",
    "PreviousPeaks = WealthIndex.cummax()\n",
    "PreviousPeaks.plot.line()"
   ]
  },
  {
   "cell_type": "code",
   "execution_count": null,
   "metadata": {},
   "outputs": [],
   "source": [
    "#Step 3. Compute drawdown = the wealth value as a percentage of the previous peak\n",
    "Drawdown = (WealthIndex - PreviousPeaks) / PreviousPeaks\n",
    "Drawdown.plot.line(figsize=(12,6))"
   ]
  },
  {
   "attachments": {},
   "cell_type": "markdown",
   "metadata": {},
   "source": [
    "#### Write a function to do all three steps automatically:"
   ]
  },
  {
   "cell_type": "code",
   "execution_count": null,
   "metadata": {},
   "outputs": [],
   "source": [
    "def draw(ReturnSeries: pd.Series):\n",
    "    \n",
    "    #Create a documentation string for the function\n",
    "    \"\"\"\n",
    "    Takes a time sereis of asset returns\n",
    "    Computes and returns a DataFrame that contains:\n",
    "    the wealth index\n",
    "    the previous peaks\n",
    "    percent drawdown\n",
    "    \"\"\"\n",
    "\n",
    "    WealthIndex = 1000*(1+ReturnSeries).cumprod() #assumes starting value = $1000\n",
    "    PreviousPeaks = WealthIndex.cummax()\n",
    "    Drawdowns = (WealthIndex - PreviousPeaks) / PreviousPeaks\n",
    "\n",
    "    return pd.DataFrame({\n",
    "        \"Wealth\": WealthIndex,\n",
    "        \"Peaks\": PreviousPeaks,\n",
    "        \"Drawdowns\": Drawdowns\n",
    "    })\n",
    "#'ReturnSeries: pd.Series' tells python that we expect 'ReturnSeries' to be a pandas series\n",
    "   "
   ]
  },
  {
   "attachments": {},
   "cell_type": "markdown",
   "metadata": {},
   "source": [
    "#### Use new function to quickly and easily visualize historical data:"
   ]
  },
  {
   "cell_type": "code",
   "execution_count": null,
   "metadata": {},
   "outputs": [],
   "source": [
    "#Show large cap as DataFrame\n",
    "draw(returns[\"LargeCap\"]).head()"
   ]
  },
  {
   "cell_type": "code",
   "execution_count": null,
   "metadata": {},
   "outputs": [],
   "source": [
    "#Use function to plot the wealth index for large cap\n",
    "draw(returns[\"LargeCap\"])[[\"Wealth\", \"Peaks\"]].plot(title=\"Growth of $1000\")"
   ]
  },
  {
   "cell_type": "code",
   "execution_count": null,
   "metadata": {},
   "outputs": [],
   "source": [
    "#Use function to plot the drawdowns for large cap\n",
    "draw(returns[\"LargeCap\"])[[\"Wealth\", \"Peaks\"]].plot((title=\"Drawdowns\",figsize=(12,6)))"
   ]
  },
  {
   "attachments": {},
   "cell_type": "markdown",
   "metadata": {},
   "source": [
    "#### Use function to pull specific numbers and dates:"
   ]
  },
  {
   "cell_type": "code",
   "execution_count": null,
   "metadata": {},
   "outputs": [],
   "source": [
    "draw(returns[\"LargeCap\"])[\"Drawdowns\"].min()"
   ]
  },
  {
   "cell_type": "code",
   "execution_count": null,
   "metadata": {},
   "outputs": [],
   "source": [
    "draw(returns[\"LargeCap\"])[\"Drawdowns\"].idxmin()"
   ]
  },
  {
   "cell_type": "code",
   "execution_count": null,
   "metadata": {},
   "outputs": [],
   "source": [
    "draw(returns[\"1932-05\":][\"LargeCap\"])[\"Drawdowns\"].min()"
   ]
  },
  {
   "cell_type": "code",
   "execution_count": null,
   "metadata": {},
   "outputs": [],
   "source": [
    "draw(returns[\"1932-05\":][\"LargeCap\"])[\"Drawdowns\"].idxmin()"
   ]
  },
  {
   "cell_type": "code",
   "execution_count": null,
   "metadata": {},
   "outputs": [],
   "source": [
    "draw(returns[\"2009-02\":][\"LargeCap\"])[\"Drawdowns\"].min()"
   ]
  },
  {
   "cell_type": "code",
   "execution_count": null,
   "metadata": {},
   "outputs": [],
   "source": [
    "draw(returns[\"2009-02\":][\"LargeCap\"])[\"Drawdowns\"].idxmin()"
   ]
  },
  {
   "cell_type": "code",
   "execution_count": null,
   "metadata": {},
   "outputs": [],
   "source": [
    "draw(returns[\"2011-09\":][\"LargeCap\"])[\"Drawdowns\"].min()"
   ]
  },
  {
   "cell_type": "code",
   "execution_count": null,
   "metadata": {},
   "outputs": [],
   "source": [
    "draw(returns[\"2011-09\":][\"LargeCap\"])[\"Drawdowns\"].idxmin()"
   ]
  },
  {
   "cell_type": "code",
   "execution_count": null,
   "metadata": {},
   "outputs": [],
   "source": [
    "draw(returns[\"2018-12\":][\"LargeCap\"])[\"Drawdowns\"].min()"
   ]
  }
 ],
 "metadata": {
  "kernelspec": {
   "display_name": "base",
   "language": "python",
   "name": "python3"
  },
  "language_info": {
   "codemirror_mode": {
    "name": "ipython",
    "version": 3
   },
   "file_extension": ".py",
   "mimetype": "text/x-python",
   "name": "python",
   "nbconvert_exporter": "python",
   "pygments_lexer": "ipython3",
   "version": "3.10.9"
  },
  "orig_nbformat": 4
 },
 "nbformat": 4,
 "nbformat_minor": 2
}
